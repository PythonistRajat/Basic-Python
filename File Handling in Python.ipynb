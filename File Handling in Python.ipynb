{
 "cells": [
  {
   "cell_type": "markdown",
   "id": "c520a251",
   "metadata": {},
   "source": [
    "# File Handling in Python"
   ]
  },
  {
   "cell_type": "markdown",
   "id": "6877dd90",
   "metadata": {},
   "source": [
    "Files in Python can be handled very easily. Python reads file in text and binary format. Most functions which we used to do using command line in Windows are done by using os module in Python."
   ]
  },
  {
   "cell_type": "code",
   "execution_count": 1,
   "id": "00e209d3",
   "metadata": {},
   "outputs": [],
   "source": [
    "# Importing os module\n",
    "import os"
   ]
  },
  {
   "cell_type": "code",
   "execution_count": 2,
   "id": "9c19f51d",
   "metadata": {},
   "outputs": [
    {
     "data": {
      "text/plain": [
       "'C:\\\\Users\\\\rajda'"
      ]
     },
     "execution_count": 2,
     "metadata": {},
     "output_type": "execute_result"
    }
   ],
   "source": [
    "# Chcking current directory\n",
    "os.getcwd()"
   ]
  },
  {
   "cell_type": "code",
   "execution_count": 3,
   "id": "5a78bea3",
   "metadata": {},
   "outputs": [
    {
     "data": {
      "text/plain": [
       "'C:\\\\Users\\\\rajda\\\\OneDrive\\\\Desktop'"
      ]
     },
     "execution_count": 3,
     "metadata": {},
     "output_type": "execute_result"
    }
   ],
   "source": [
    "# Changing to specific directory\n",
    "os.chdir('C:\\\\Users\\\\rajda\\\\OneDrive\\\\Desktop')\n",
    "\n",
    "# Again checking current directory\n",
    "os.getcwd()"
   ]
  },
  {
   "cell_type": "markdown",
   "id": "59193e66",
   "metadata": {},
   "source": [
    "### Handling file using Open function"
   ]
  },
  {
   "cell_type": "code",
   "execution_count": 4,
   "id": "638cc742",
   "metadata": {},
   "outputs": [
    {
     "data": {
      "text/plain": [
       "25"
      ]
     },
     "execution_count": 4,
     "metadata": {},
     "output_type": "execute_result"
    }
   ],
   "source": [
    "# Writing to file using Python's open function content will be overwritten if the file is found\n",
    "# If the file doesn't exists Python will create new file\n",
    "\n",
    "file = open('file.txt' , 'w')\n",
    "file.write('This is a demo text file.')"
   ]
  },
  {
   "cell_type": "code",
   "execution_count": 5,
   "id": "532aa490",
   "metadata": {},
   "outputs": [
    {
     "data": {
      "text/plain": [
       "'This is a demo text file.'"
      ]
     },
     "execution_count": 5,
     "metadata": {},
     "output_type": "execute_result"
    }
   ],
   "source": [
    "# Reading file\n",
    "file = open('file.txt' , 'r')\n",
    "file.read()"
   ]
  },
  {
   "cell_type": "markdown",
   "id": "827ac0cb",
   "metadata": {},
   "source": [
    "The only problem that user faces while using open function is that Python doesn't close file automatically so users need to take care of closing file.So file must be close to do any further actions like renaming , deleting or modifying etc."
   ]
  },
  {
   "cell_type": "code",
   "execution_count": 6,
   "id": "25b3420e",
   "metadata": {},
   "outputs": [],
   "source": [
    "# Closing file \n",
    "file.close()"
   ]
  },
  {
   "cell_type": "markdown",
   "id": "8c871e86",
   "metadata": {},
   "source": [
    "# Handling file using with()"
   ]
  },
  {
   "cell_type": "code",
   "execution_count": 21,
   "id": "a9316b85",
   "metadata": {},
   "outputs": [],
   "source": [
    "# with function automatically takes care of closing of file\n",
    "with open('file.txt')as file:\n",
    "    data = file.read()"
   ]
  },
  {
   "cell_type": "code",
   "execution_count": 22,
   "id": "2e4ab934",
   "metadata": {},
   "outputs": [
    {
     "data": {
      "text/plain": [
       "'This is another line in this file.'"
      ]
     },
     "execution_count": 22,
     "metadata": {},
     "output_type": "execute_result"
    }
   ],
   "source": [
    "data"
   ]
  },
  {
   "cell_type": "code",
   "execution_count": 12,
   "id": "10199460",
   "metadata": {},
   "outputs": [],
   "source": [
    "# with() along with write mode\n",
    "with open('file.txt' , 'w') as file:\n",
    "    file.write('This is another line in this file.')"
   ]
  },
  {
   "cell_type": "code",
   "execution_count": null,
   "id": "5fc6e347",
   "metadata": {},
   "outputs": [],
   "source": []
  }
 ],
 "metadata": {
  "kernelspec": {
   "display_name": "Python 3 (ipykernel)",
   "language": "python",
   "name": "python3"
  },
  "language_info": {
   "codemirror_mode": {
    "name": "ipython",
    "version": 3
   },
   "file_extension": ".py",
   "mimetype": "text/x-python",
   "name": "python",
   "nbconvert_exporter": "python",
   "pygments_lexer": "ipython3",
   "version": "3.10.8"
  }
 },
 "nbformat": 4,
 "nbformat_minor": 5
}
