{
 "cells": [
  {
   "cell_type": "markdown",
   "id": "52159f71",
   "metadata": {},
   "source": [
    "# Python is\n",
    "\n",
    "## 1. interpreted:\n",
    "meaning that it is directly executed, without ending to be compiled first.\n",
    "\n",
    "## 2.  high-level:\n",
    "meaning that it is abstracted from the details of the computer and uses many natural language elements to make code easier to read.\n",
    "\n",
    "#### 3.  dynamically typed: \n",
    "meaning that the data types are checked at runtime but are not explicitly enforced (meaning you could accidentally pass in text instead of a number).\n",
    "\n",
    "#### 4. general-purpose: \n",
    "meaning it can be used in many different domains (such as data science!).\n",
    "\n",
    "##### 5.  garbage collected: \n",
    "meaning that the program tries to clear up memory as items are no longer used."
   ]
  },
  {
   "cell_type": "code",
   "execution_count": 1,
   "id": "9752b1bb",
   "metadata": {},
   "outputs": [
    {
     "name": "stdout",
     "output_type": "stream",
     "text": [
      "Hello world!\n"
     ]
    }
   ],
   "source": [
    "# First Python program\n",
    "print('Hello world!')"
   ]
  },
  {
   "cell_type": "markdown",
   "id": "631987f5",
   "metadata": {},
   "source": [
    "## More ways to print using escape characters\n"
   ]
  },
  {
   "cell_type": "code",
   "execution_count": 4,
   "id": "6ddeb2ea",
   "metadata": {},
   "outputs": [
    {
     "name": "stdout",
     "output_type": "stream",
     "text": [
      "Let's write it.\n",
      "Let's write it.\n"
     ]
    }
   ],
   "source": [
    "print(\"Let's write it.\" ) # Using double quotes\n",
    "print('Let\\'s write it.') # Using single quotes with escape sequence"
   ]
  },
  {
   "cell_type": "markdown",
   "id": "ffe59e5d",
   "metadata": {},
   "source": [
    "# Data Types in Python"
   ]
  },
  {
   "cell_type": "code",
   "execution_count": 9,
   "id": "195c8323",
   "metadata": {},
   "outputs": [],
   "source": [
    "a = \"Hi! , This is a string data type in Python.\"   # string\n",
    "b = 3.4 # float\n",
    "c = 3 - 2j  # complex\n",
    "d = [1,2,3]  # list\n",
    "e = b'bytes'  # bytes\n",
    "f = 5  # int\n",
    "g = {1,2,3} # set\n",
    "h = (1,)   # tuple with one element\n",
    "i = {'name': 'Rajat' , 'age': 24}   # dictionary with key:value pairs\n",
    "j = frozenset((1,2,3))"
   ]
  },
  {
   "cell_type": "markdown",
   "id": "fb86878e",
   "metadata": {},
   "source": [
    "Python has two functions to get the type of the data and the memory loaction where the item is stored."
   ]
  },
  {
   "cell_type": "code",
   "execution_count": 10,
   "id": "5b83096f",
   "metadata": {},
   "outputs": [
    {
     "name": "stdout",
     "output_type": "stream",
     "text": [
      "<class 'frozenset'>\n",
      "2194877567152\n"
     ]
    }
   ],
   "source": [
    "print(type(j)) # type returns the data type\n",
    "print(id(a))  # id returns the memory location"
   ]
  },
  {
   "cell_type": "code",
   "execution_count": null,
   "id": "612e212c",
   "metadata": {},
   "outputs": [],
   "source": []
  }
 ],
 "metadata": {
  "kernelspec": {
   "display_name": "Python 3 (ipykernel)",
   "language": "python",
   "name": "python3"
  },
  "language_info": {
   "codemirror_mode": {
    "name": "ipython",
    "version": 3
   },
   "file_extension": ".py",
   "mimetype": "text/x-python",
   "name": "python",
   "nbconvert_exporter": "python",
   "pygments_lexer": "ipython3",
   "version": "3.10.8"
  }
 },
 "nbformat": 4,
 "nbformat_minor": 5
}
